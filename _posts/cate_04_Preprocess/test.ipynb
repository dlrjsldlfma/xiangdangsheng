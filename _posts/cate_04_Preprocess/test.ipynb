{
 "cells": [
  {
   "cell_type": "code",
   "execution_count": 25,
   "metadata": {},
   "outputs": [],
   "source": [
    "def func(x) :\n",
    "    return x + 10"
   ]
  },
  {
   "cell_type": "code",
   "execution_count": 35,
   "metadata": {},
   "outputs": [],
   "source": [
    "import time\n",
    "li = [1,2,3] * 10000000"
   ]
  },
  {
   "cell_type": "code",
   "execution_count": 36,
   "metadata": {},
   "outputs": [
    {
     "name": "stdout",
     "output_type": "stream",
     "text": [
      "3.03553 sec\n"
     ]
    }
   ],
   "source": [
    "start = time.time()\n",
    "\n",
    "a = list(map(func , li))\n",
    "\n",
    "end = time.time()\n",
    "print(f\"{end - start:.5f} sec\")"
   ]
  },
  {
   "cell_type": "code",
   "execution_count": 44,
   "metadata": {},
   "outputs": [
    {
     "data": {
      "text/plain": [
       "[5, 6]"
      ]
     },
     "execution_count": 44,
     "metadata": {},
     "output_type": "execute_result"
    }
   ],
   "source": [
    "li = [-2, -3, 5, 6]\n",
    "## 1) filter with labmda \n",
    "list(filter(lambda x: x > 0, li))\n",
    "# > [5, 6]\n",
    "\n",
    "# ## 2) filter with function \n",
    "# def func(x) :\n",
    "#     return x > 0\n",
    "# list(filter(func, li))"
   ]
  },
  {
   "cell_type": "code",
   "execution_count": 42,
   "metadata": {},
   "outputs": [
    {
     "name": "stdout",
     "output_type": "stream",
     "text": [
      "<class 'list'>\n",
      "<class 'list_iterator'>\n"
     ]
    },
    {
     "ename": "StopIteration",
     "evalue": "",
     "output_type": "error",
     "traceback": [
      "\u001b[0;31m---------------------------------------------------------------------------\u001b[0m",
      "\u001b[0;31mStopIteration\u001b[0m                             Traceback (most recent call last)",
      "\u001b[0;32m<ipython-input-42-b79c62b0933c>\u001b[0m in \u001b[0;36m<module>\u001b[0;34m\u001b[0m\n\u001b[1;32m      6\u001b[0m \u001b[0mnext\u001b[0m\u001b[0;34m(\u001b[0m\u001b[0my\u001b[0m\u001b[0;34m)\u001b[0m \u001b[0;31m# 2\u001b[0m\u001b[0;34m\u001b[0m\u001b[0;34m\u001b[0m\u001b[0m\n\u001b[1;32m      7\u001b[0m \u001b[0mnext\u001b[0m\u001b[0;34m(\u001b[0m\u001b[0my\u001b[0m\u001b[0;34m)\u001b[0m \u001b[0;31m# 3\u001b[0m\u001b[0;34m\u001b[0m\u001b[0;34m\u001b[0m\u001b[0m\n\u001b[0;32m----> 8\u001b[0;31m \u001b[0mnext\u001b[0m\u001b[0;34m(\u001b[0m\u001b[0my\u001b[0m\u001b[0;34m)\u001b[0m \u001b[0;31m# 3\u001b[0m\u001b[0;34m\u001b[0m\u001b[0;34m\u001b[0m\u001b[0m\n\u001b[0m",
      "\u001b[0;31mStopIteration\u001b[0m: "
     ]
    }
   ],
   "source": [
    "x = [1,2,3] \n",
    "print(type(x)) # list ('iterable')\n",
    "y = iter(x)\n",
    "print(type(y)) # list ('iterator')\n",
    "next(y) # 1\n",
    "next(y) # 2\n",
    "next(y) # 3\n",
    "next(y) # 3"
   ]
  },
  {
   "cell_type": "code",
   "execution_count": 53,
   "metadata": {},
   "outputs": [
    {
     "data": {
      "text/plain": [
       "['gregorythomas@gmail.com',\n",
       " 'hintoncynthia@hotmail.com',\n",
       " 'wwagner@gmail.com',\n",
       " 'daniel79@gmail.com',\n",
       " 'ujackson@gmail.com']"
      ]
     },
     "execution_count": 53,
     "metadata": {},
     "output_type": "execute_result"
    }
   ],
   "source": [
    "from functools import reduce\n",
    "users = [\n",
    "  {'mail': 'gregorythomas@gmail.com', 'sex': 'M', 'age': 73},\n",
    "  {'mail': 'hintoncynthia@hotmail.com', 'sex': 'F', 'age': 29},\n",
    "  {'mail': 'wwagner@gmail.com', 'sex': 'M', 'age': 51},\n",
    "  {'mail': 'daniel79@gmail.com', 'sex': 'F', 'age': 32},\n",
    "  {'mail': 'ujackson@gmail.com', 'sex': 'F', 'age': 42}\n",
    "  ]\n",
    "\n",
    "## ex_1_1) No initialize -> 리스트의 첫번째 값을 초기값으로 사용\n",
    "reduce(lambda x, y : x + y['age'], users)\n",
    "# {'mail': 'gregorythomas@gmail.com', 'sex': 'M', 'age': 73} + 73 # Error\n",
    "## ex_1_2) With initialize\n",
    "reduce(lambda x, y : x + y['age'], users, 0)\n",
    "# 0 + 73\n",
    "# 73 + 29\n",
    "# 73 + 29 + 51\n",
    "\n",
    "## ex_2) \n",
    "reduce(lambda x, y : x + [y['mail']], users, []) \n",
    "# [] + ['gregorythomas@gmail.com']\n",
    "# ['gregorythomas@gmail.com'] + ['hintoncynthia@hotmail.com']\n",
    "# ['gregorythomas@gmail.com', 'hintoncynthia@hotmail.com'] + ['wwagner@gmail.com']"
   ]
  },
  {
   "cell_type": "code",
   "execution_count": 56,
   "metadata": {},
   "outputs": [
    {
     "data": {
      "text/plain": [
       "6"
      ]
     },
     "execution_count": 56,
     "metadata": {},
     "output_type": "execute_result"
    }
   ],
   "source": [
    "from functools import reduce\n",
    "# users = [\n",
    "#     [100,10],[2,3,], [4,5]\n",
    "#   ]\n",
    "users = [\n",
    "    1,2,3\n",
    "  ]\n",
    "\n",
    "reduce(lambda x, y : x + y, users)"
   ]
  },
  {
   "cell_type": "code",
   "execution_count": 69,
   "metadata": {},
   "outputs": [
    {
     "data": {
      "text/plain": [
       "['negative', 'negative', 0, 'positive', 'positive']"
      ]
     },
     "execution_count": 69,
     "metadata": {},
     "output_type": "execute_result"
    }
   ],
   "source": [
    "\n",
    "\n",
    "# list(lambda x : 'positive' if x > 0 else 'a' for x in li)"
   ]
  }
 ],
 "metadata": {
  "kernelspec": {
   "display_name": "Python 3",
   "language": "python",
   "name": "python3"
  },
  "language_info": {
   "codemirror_mode": {
    "name": "ipython",
    "version": 3
   },
   "file_extension": ".py",
   "mimetype": "text/x-python",
   "name": "python",
   "nbconvert_exporter": "python",
   "pygments_lexer": "ipython3",
   "version": "3.8.2"
  },
  "orig_nbformat": 4
 },
 "nbformat": 4,
 "nbformat_minor": 2
}
