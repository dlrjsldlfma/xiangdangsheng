{
 "cells": [
  {
   "cell_type": "markdown",
   "metadata": {},
   "source": [
    "# ALS Implementation"
   ]
  },
  {
   "cell_type": "code",
   "execution_count": 10,
   "metadata": {},
   "outputs": [],
   "source": [
    "from IPython.core.interactiveshell import InteractiveShell\n",
    "InteractiveShell.ast_node_interactivity = \"all\""
   ]
  },
  {
   "cell_type": "markdown",
   "metadata": {},
   "source": [
    "## 1. Initialize parameters"
   ]
  },
  {
   "cell_type": "markdown",
   "metadata": {},
   "source": [
    "- r_lambda: normalization parameter\n",
    "- alpha: confidence level\n",
    "- nf: dimension of latent vector of each user and item\n",
    "- initilzed values(40, 200, 40) are the best parameters from the paper"
   ]
  },
  {
   "cell_type": "code",
   "execution_count": 11,
   "metadata": {},
   "outputs": [],
   "source": [
    "r_lambda = 40\n",
    "nf = 200\n",
    "alpha = 40"
   ]
  },
  {
   "cell_type": "markdown",
   "metadata": {},
   "source": [
    "## 2. rating matrix"
   ]
  },
  {
   "cell_type": "code",
   "execution_count": 12,
   "metadata": {},
   "outputs": [
    {
     "data": {
      "text/plain": [
       "(10, 11)"
      ]
     },
     "execution_count": 12,
     "metadata": {},
     "output_type": "execute_result"
    }
   ],
   "source": [
    "import numpy as np\n",
    "\n",
    "# sample rating matrix\n",
    "R = np.array([[0, 0, 0, 4, 4, 0, 0, 0, 0, 0, 0],\n",
    "              [0, 0, 0, 0, 0, 0, 0, 0, 0, 0, 1],\n",
    "              [0, 0, 0, 0, 0, 0, 0, 1, 0, 4, 0],\n",
    "              [0, 3, 4, 0, 3, 0, 0, 2, 2, 0, 0],\n",
    "              [0, 5, 5, 0, 0, 0, 0, 0, 0, 0, 0],\n",
    "              [0, 0, 0, 0, 0, 0, 5, 0, 0, 5, 0],\n",
    "              [0, 0, 4, 0, 0, 0, 0, 0, 0, 0, 5],\n",
    "              [0, 0, 0, 0, 0, 4, 0, 0, 0, 0, 4],\n",
    "              [0, 0, 0, 0, 0, 0, 5, 0, 0, 5, 0],\n",
    "              [0, 0, 0, 3, 0, 0, 0, 0, 4, 5, 0]])\n",
    "R.shape"
   ]
  },
  {
   "cell_type": "markdown",
   "metadata": {},
   "source": [
    "## 3. Initalize user and item latent factor matrix\n",
    " : 아주 작은 랜덤한 값들로 행렬의 값을 초기화 시킴 -> 이를 통해 한쪽 \n",
    "정보를 상수로 고정한 상태에서 반대편 matrix를 학습\n",
    " - nu : number of users (10)\n",
    " - ni : number of items (11)\n",
    " - nf : dimension of latent vector"
   ]
  },
  {
   "cell_type": "code",
   "execution_count": 13,
   "metadata": {},
   "outputs": [
    {
     "data": {
      "text/plain": [
       "(array([[0.00152801, 0.00757564, 0.00923784, ..., 0.00490042, 0.00697526,\n",
       "         0.00954676],\n",
       "        [0.0091762 , 0.00020842, 0.00542215, ..., 0.00064578, 0.00903261,\n",
       "         0.00724798],\n",
       "        [0.00148628, 0.00628547, 0.00604668, ..., 0.00497305, 0.00232862,\n",
       "         0.00901012],\n",
       "        ...,\n",
       "        [0.00235099, 0.00393322, 0.00918248, ..., 0.00974353, 0.00444581,\n",
       "         0.00186488],\n",
       "        [0.00547913, 0.00562956, 0.00104005, ..., 0.00659107, 0.00523891,\n",
       "         0.00125358],\n",
       "        [0.00193838, 0.00580671, 0.00466999, ..., 0.00584544, 0.00520098,\n",
       "         0.00723732]]),\n",
       " array([[0.00942033, 0.00838059, 0.00283322, ..., 0.00669   , 0.00111067,\n",
       "         0.00387789],\n",
       "        [0.00243604, 0.00722863, 0.00577154, ..., 0.00728208, 0.00484407,\n",
       "         0.00569207],\n",
       "        [0.00219446, 0.00927742, 0.00120476, ..., 0.00207732, 0.00900426,\n",
       "         0.00639849],\n",
       "        ...,\n",
       "        [0.00116326, 0.00210305, 0.00749175, ..., 0.0019529 , 0.00388187,\n",
       "         0.00557575],\n",
       "        [0.00464582, 0.00564343, 0.00940545, ..., 0.00574422, 0.00814628,\n",
       "         0.00392712],\n",
       "        [0.00887629, 0.00436732, 0.0051157 , ..., 0.00296383, 0.00787589,\n",
       "         0.00424186]]))"
      ]
     },
     "execution_count": 13,
     "metadata": {},
     "output_type": "execute_result"
    }
   ],
   "source": [
    "nu = R.shape[0]\n",
    "ni = R.shape[1]\n",
    "\n",
    "# initialize X and Y with very small values\n",
    "X = np.random.rand(nu, nf) * 0.01 # 10x200\n",
    "Y = np.random.rand(ni, nf) * 0.01 # 11x200\n",
    "\n",
    "X, Y"
   ]
  },
  {
   "cell_type": "markdown",
   "metadata": {},
   "source": [
    "## 4. Initialize Binary Rating Matrix\n",
    "### (선호도 행렬 P 설정)\n",
    " : 주어진 학습용 평점 테이블을 0과1로  이뤄진 binary rating matrix P로 변경<br>\n",
    " - Convert original rating matrix R into P\n",
    " - Pui = 1 if Rui > 0 \n",
    " - Pui = 0 if Rui = 0"
   ]
  },
  {
   "cell_type": "code",
   "execution_count": 5,
   "metadata": {},
   "outputs": [
    {
     "data": {
      "text/plain": [
       "array([[0, 0, 0, 1, 1, 0, 0, 0, 0, 0, 0],\n",
       "       [0, 0, 0, 0, 0, 0, 0, 0, 0, 0, 1],\n",
       "       [0, 0, 0, 0, 0, 0, 0, 1, 0, 1, 0],\n",
       "       [0, 1, 1, 0, 1, 0, 0, 1, 1, 0, 0],\n",
       "       [0, 1, 1, 0, 0, 0, 0, 0, 0, 0, 0],\n",
       "       [0, 0, 0, 0, 0, 0, 1, 0, 0, 1, 0],\n",
       "       [0, 0, 1, 0, 0, 0, 0, 0, 0, 0, 1],\n",
       "       [0, 0, 0, 0, 0, 1, 0, 0, 0, 0, 1],\n",
       "       [0, 0, 0, 0, 0, 0, 1, 0, 0, 1, 0],\n",
       "       [0, 0, 0, 1, 0, 0, 0, 0, 1, 1, 0]])"
      ]
     },
     "execution_count": 5,
     "metadata": {},
     "output_type": "execute_result"
    }
   ],
   "source": [
    "P = np.copy(R)\n",
    "P[P > 0] = 1\n",
    "P"
   ]
  },
  {
   "cell_type": "markdown",
   "metadata": {},
   "source": [
    "## 5. Initialize Confidence Matrix \n",
    "### (신로도 행렬 C 설정)\n",
    " : 주어진 학습 평점 테이블에 confidence level을 적용한 C행렬 계산\n",
    "\n",
    " - 신뢰도 행렬을 이횽해 평점이 부재한 테이터도 낮은 신뢰도 하에서 분석에 활용 가능\n",
    "  \n",
    " - Initialize Confidence Matrix C\n",
    " - Cui = 1 + alpha * R \n"
   ]
  },
  {
   "cell_type": "code",
   "execution_count": 14,
   "metadata": {
    "scrolled": true
   },
   "outputs": [
    {
     "name": "stdout",
     "output_type": "stream",
     "text": [
      "[[  1   1   1 161 161   1   1   1   1   1   1]\n",
      " [  1   1   1   1   1   1   1   1   1   1  41]\n",
      " [  1   1   1   1   1   1   1  41   1 161   1]\n",
      " [  1 121 161   1 121   1   1  81  81   1   1]\n",
      " [  1 201 201   1   1   1   1   1   1   1   1]\n",
      " [  1   1   1   1   1   1 201   1   1 201   1]\n",
      " [  1   1 161   1   1   1   1   1   1   1 201]\n",
      " [  1   1   1   1   1 161   1   1   1   1 161]\n",
      " [  1   1   1   1   1   1 201   1   1 201   1]\n",
      " [  1   1   1 121   1   1   1   1 161 201   1]]\n"
     ]
    },
    {
     "data": {
      "text/plain": [
       "(10, 11)"
      ]
     },
     "execution_count": 14,
     "metadata": {},
     "output_type": "execute_result"
    }
   ],
   "source": [
    "C = 1 +alpha * R\n",
    "print(C)\n",
    "C.shape"
   ]
  },
  {
   "cell_type": "code",
   "execution_count": 74,
   "metadata": {},
   "outputs": [
    {
     "data": {
      "text/plain": [
       "array([[1, 0, 0, 0, 0, 0, 0, 0, 0, 0],\n",
       "       [0, 1, 0, 0, 0, 0, 0, 0, 0, 0],\n",
       "       [0, 0, 1, 0, 0, 0, 0, 0, 0, 0],\n",
       "       [0, 0, 0, 1, 0, 0, 0, 0, 0, 0],\n",
       "       [0, 0, 0, 0, 1, 0, 0, 0, 0, 0],\n",
       "       [0, 0, 0, 0, 0, 1, 0, 0, 0, 0],\n",
       "       [0, 0, 0, 0, 0, 0, 1, 0, 0, 0],\n",
       "       [0, 0, 0, 0, 0, 0, 0, 1, 0, 0],\n",
       "       [0, 0, 0, 0, 0, 0, 0, 0, 1, 0],\n",
       "       [0, 0, 0, 0, 0, 0, 0, 0, 0, 1]])"
      ]
     },
     "execution_count": 74,
     "metadata": {},
     "output_type": "execute_result"
    }
   ],
   "source": [
    "i = 0\n",
    "Ci = np.diag(C[:, i])\n",
    "Ci"
   ]
  },
  {
   "cell_type": "markdown",
   "metadata": {},
   "source": [
    "## 6. Loss Function 설정\n",
    " - C: confidence matrix\n",
    " - P: binary rating matrix\n",
    " - X: user latent matrix\n",
    " - Y: item latent matrix\n",
    " - r_lambda: regularization lambda\n",
    " - xTy: predict matrix\n",
    " - Total_loss = (confidence_level * predict loss) + regularization loss"
   ]
  },
  {
   "cell_type": "code",
   "execution_count": 7,
   "metadata": {},
   "outputs": [],
   "source": [
    "def loss_function(C, P, xTy, X, Y, r_lambda) :\n",
    "    predict_error = np.square(P-xTy) # (관측치 - 예측치)^2\n",
    "    confidence_error = np.sum(C*predict_error) # 오차값이 크더라도, 신뢰도가 낮다면 적게 반영하며, 오차값이 작더라도 신뢰도가 크다면 오차를 크게 반영\n",
    "    regularization = r_lambda * (np.sum(np.square(X)) + np.sum(np.square(Y)))\n",
    "    total_loss = confidence_error + regularization\n",
    "    return np.sum(predict_error), confidence_error, regularization, total_loss"
   ]
  },
  {
   "cell_type": "markdown",
   "metadata": {},
   "source": [
    "## 7. Optimization Function for user and Item\n",
    "- X[u] = (yTCuy + lambda*I)^-1yTCuy\n",
    "- Y[i] = (xTCix + lambda*I)^-1xTCix\n",
    "- two formula is the same when it changes X to Y and u to i"
   ]
  },
  {
   "cell_type": "code",
   "execution_count": 8,
   "metadata": {},
   "outputs": [],
   "source": [
    "def optimize_user(X, Y, C, P, nu, nf, r_lambda) :\n",
    "    \"\"\"\n",
    "    optimize user matrix\n",
    "    \"\"\"\n",
    "    yT = np.transpose(Y)\n",
    "    for u in range(nu):\n",
    "        Cu = np.diag(C[u]) # np.diag : 대각 행렬 C행렬을 순차적으로 곱해주기 위해서\n",
    "        yT_Cu_y = np.matmul(np.matmul(yT, Cu), Y)\n",
    "        lI = np.dot(r_lambda, np.identity(nf)) # 정규화\n",
    "        yT_Cu_pu = np.matmul(np.matmul(yT, Cu), P[u])\n",
    "        X[u] = np.linalg.solve(yT_Cu_y + lI, yT_Cu_pu)\n",
    "\n",
    "def optimize_item(X, Y, C, P, ni, nf, r_lambda):\n",
    "    \"\"\"\n",
    "    optimize item matrix\n",
    "    \"\"\"\n",
    "    xT = np.transpose(X)\n",
    "    for i in range(ni):\n",
    "        Ci = np.diag(C[:, i])\n",
    "        xT_Ci_x = np.matmul(np.matmul(xT, Ci), X)\n",
    "        lI = np.dot(r_lambda, np.identity(nf))\n",
    "        xT_Ci_pi = np.matmul(np.matmul(xT, Ci), P[:, i])\n",
    "        Y[i] = np.linalg.solve(xT_Ci_x + lI, xT_Ci_pi)"
   ]
  },
  {
   "cell_type": "code",
   "execution_count": 75,
   "metadata": {},
   "outputs": [],
   "source": [
    "xT = np.transpose(X)\n",
    "for i in range(ni):\n",
    "    Ci = np.diag(C[:, i])\n",
    "    xT_Ci_x = np.matmul(np.matmul(xT, Ci), X)\n",
    "    lI = np.dot(r_lambda, np.identity(nf))\n",
    "    xT_Ci_pi = np.matmul(np.matmul(xT, Ci), P[:, i])\n",
    "    Y[i] = np.linalg.solve(xT_Ci_x + lI, xT_Ci_pi)"
   ]
  },
  {
   "cell_type": "code",
   "execution_count": 81,
   "metadata": {},
   "outputs": [
    {
     "data": {
      "text/plain": [
       "(200, 200)"
      ]
     },
     "execution_count": 81,
     "metadata": {},
     "output_type": "execute_result"
    },
    {
     "data": {
      "text/plain": [
       "(200, 200)"
      ]
     },
     "execution_count": 81,
     "metadata": {},
     "output_type": "execute_result"
    },
    {
     "data": {
      "text/plain": [
       "(200,)"
      ]
     },
     "execution_count": 81,
     "metadata": {},
     "output_type": "execute_result"
    },
    {
     "data": {
      "text/plain": [
       "(10,)"
      ]
     },
     "execution_count": 81,
     "metadata": {},
     "output_type": "execute_result"
    }
   ],
   "source": [
    "xT_Ci_x.shape\n",
    "lI.shape\n",
    "xT_Ci_pi.shape\n",
    "P[:, i].shape"
   ]
  },
  {
   "cell_type": "markdown",
   "metadata": {},
   "source": [
    "## 8. Train\n",
    " - usually ALS algorithm repeat train steps for 10~15times"
   ]
  },
  {
   "cell_type": "code",
   "execution_count": 39,
   "metadata": {
    "scrolled": true
   },
   "outputs": [
    {
     "name": "stdout",
     "output_type": "stream",
     "text": [
      "----------------step 0----------------\n",
      "predict error: 22.628862\n",
      "confidence error: 3442.769641\n",
      "regularization: 19.336987\n",
      "total loss: 3462.106628\n",
      "----------------step 1----------------\n",
      "predict error: 30.957115\n",
      "confidence error: 285.638645\n",
      "regularization: 639.397642\n",
      "total loss: 925.036287\n",
      "----------------step 2----------------\n",
      "predict error: 34.024191\n",
      "confidence error: 137.844707\n",
      "regularization: 650.759387\n",
      "total loss: 788.604093\n",
      "----------------step 3----------------\n",
      "predict error: 32.130058\n",
      "confidence error: 119.829810\n",
      "regularization: 650.760389\n",
      "total loss: 770.590198\n",
      "----------------step 4----------------\n",
      "predict error: 29.562359\n",
      "confidence error: 109.343120\n",
      "regularization: 653.473816\n",
      "total loss: 762.816936\n",
      "----------------step 5----------------\n",
      "predict error: 27.065492\n",
      "confidence error: 102.318145\n",
      "regularization: 656.420266\n",
      "total loss: 758.738411\n",
      "----------------step 6----------------\n",
      "predict error: 24.979342\n",
      "confidence error: 97.495774\n",
      "regularization: 658.869386\n",
      "total loss: 756.365160\n",
      "----------------step 7----------------\n",
      "predict error: 23.385537\n",
      "confidence error: 94.218673\n",
      "regularization: 660.713441\n",
      "total loss: 754.932114\n",
      "----------------step 8----------------\n",
      "predict error: 22.229139\n",
      "confidence error: 92.022439\n",
      "regularization: 662.038800\n",
      "total loss: 754.061239\n",
      "----------------step 9----------------\n",
      "predict error: 21.412424\n",
      "confidence error: 90.562597\n",
      "regularization: 662.969505\n",
      "total loss: 753.532103\n",
      "----------------step 10----------------\n",
      "predict error: 20.842715\n",
      "confidence error: 89.594429\n",
      "regularization: 663.615173\n",
      "total loss: 753.209602\n",
      "----------------step 11----------------\n",
      "predict error: 20.447335\n",
      "confidence error: 88.951612\n",
      "regularization: 664.059640\n",
      "total loss: 753.011252\n",
      "----------------step 12----------------\n",
      "predict error: 20.173677\n",
      "confidence error: 88.524063\n",
      "regularization: 664.363353\n",
      "total loss: 752.887416\n",
      "----------------step 13----------------\n",
      "predict error: 19.984921\n",
      "confidence error: 88.239687\n",
      "regularization: 664.568851\n",
      "total loss: 752.808538\n",
      "----------------step 14----------------\n",
      "predict error: 19.855567\n",
      "confidence error: 88.051269\n",
      "regularization: 664.705824\n",
      "total loss: 752.757093\n",
      "final predict\n",
      "[array([[ 0.        ,  0.72032512,  0.68269947,  0.85762853,  0.83815542,\n",
      "         0.10181531,  0.59195313,  0.68814191,  0.81214261,  0.81933355,\n",
      "         0.31502819],\n",
      "       [ 0.        ,  0.33849742,  0.4203328 ,  0.10926002,  0.15903737,\n",
      "         0.39295661, -0.03107137,  0.14938506,  0.13520519,  0.03213185,\n",
      "         0.48344609],\n",
      "       [ 0.        ,  0.45893165,  0.42512237,  0.63134459,  0.58573528,\n",
      "         0.03131133,  0.75184842,  0.565898  ,  0.62718551,  0.86785963,\n",
      "         0.15815588],\n",
      "       [ 0.        ,  0.92276577,  0.94220536,  0.89631614,  0.9085991 ,\n",
      "         0.36455237,  0.60395343,  0.77779863,  0.87863937,  0.8569369 ,\n",
      "         0.63078793],\n",
      "       [ 0.        ,  0.84991773,  0.92668688,  0.62297821,  0.67987804,\n",
      "         0.53927838,  0.25511659,  0.57283428,  0.62753503,  0.47104537,\n",
      "         0.78325062],\n",
      "       [ 0.        ,  0.28644591,  0.23428542,  0.54255595,  0.46980037,\n",
      "        -0.08740135,  0.88181556,  0.51035059,  0.55057874,  0.93890376,\n",
      "        -0.01495784],\n",
      "       [ 0.        ,  0.74545732,  0.87504234,  0.37839909,  0.46102918,\n",
      "         0.6893944 ,  0.06476064,  0.40754246,  0.41179828,  0.22633798,\n",
      "         0.89517999],\n",
      "       [ 0.        ,  0.57024678,  0.74254797,  0.09797614,  0.19782909,\n",
      "         0.78189794, -0.11997311,  0.206703  ,  0.15858969, -0.02985975,\n",
      "         0.92881811],\n",
      "       [ 0.        ,  0.28644591,  0.23428542,  0.54255595,  0.46980037,\n",
      "        -0.08740135,  0.88181556,  0.51035059,  0.55057874,  0.93890376,\n",
      "        -0.01495784],\n",
      "       [ 0.        ,  0.68408656,  0.63934804,  0.86949708,  0.83205805,\n",
      "         0.06577733,  0.75973607,  0.72386032,  0.83627777,  0.96352715,\n",
      "         0.2641367 ]])]\n"
     ]
    }
   ],
   "source": [
    "predict_errors = []\n",
    "confidence_errors = []\n",
    "regularization_list = []\n",
    "total_losses = []\n",
    "\n",
    "for i in range(15):\n",
    "    if i!=0:   \n",
    "        optimize_user(X, Y, C, P, nu, nf, r_lambda)\n",
    "        optimize_item(X, Y, C, P, ni, nf, r_lambda)\n",
    "    predict = np.matmul(X, np.transpose(Y))\n",
    "    predict_error, confidence_error, regularization, total_loss = loss_function(C, P, predict, X, Y, r_lambda)\n",
    "    \n",
    "    predict_errors.append(predict_error)\n",
    "    confidence_errors.append(confidence_error)\n",
    "    regularization_list.append(regularization)\n",
    "    total_losses.append(total_loss)\n",
    "    \n",
    "    print('----------------step %d----------------' % i)\n",
    "    print(\"predict error: %f\" % predict_error)\n",
    "    print(\"confidence error: %f\" % confidence_error)\n",
    "    print(\"regularization: %f\" % regularization)\n",
    "    print(\"total loss: %f\" % total_loss)\n",
    "    \n",
    "predict = np.matmul(X, np.transpose(Y))\n",
    "print('final predict')\n",
    "print([predict])"
   ]
  },
  {
   "cell_type": "code",
   "execution_count": 40,
   "metadata": {},
   "outputs": [
    {
     "data": {
      "text/plain": [
       "Text(0.5, 1.0, 'Predict Error')"
      ]
     },
     "execution_count": 40,
     "metadata": {},
     "output_type": "execute_result"
    },
    {
     "data": {
      "text/plain": [
       "[<matplotlib.lines.Line2D at 0x11a360f50>]"
      ]
     },
     "execution_count": 40,
     "metadata": {},
     "output_type": "execute_result"
    },
    {
     "data": {
      "text/plain": [
       "Text(0.5, 1.0, 'Confidence Error')"
      ]
     },
     "execution_count": 40,
     "metadata": {},
     "output_type": "execute_result"
    },
    {
     "data": {
      "text/plain": [
       "[<matplotlib.lines.Line2D at 0x11a78ee50>]"
      ]
     },
     "execution_count": 40,
     "metadata": {},
     "output_type": "execute_result"
    },
    {
     "data": {
      "text/plain": [
       "Text(0.5, 1.0, 'Regularization')"
      ]
     },
     "execution_count": 40,
     "metadata": {},
     "output_type": "execute_result"
    },
    {
     "data": {
      "text/plain": [
       "[<matplotlib.lines.Line2D at 0x11a78ecd0>]"
      ]
     },
     "execution_count": 40,
     "metadata": {},
     "output_type": "execute_result"
    },
    {
     "data": {
      "text/plain": [
       "Text(0.5, 1.0, 'Total Loss')"
      ]
     },
     "execution_count": 40,
     "metadata": {},
     "output_type": "execute_result"
    },
    {
     "data": {
      "text/plain": [
       "[<matplotlib.lines.Line2D at 0x11a78ed10>]"
      ]
     },
     "execution_count": 40,
     "metadata": {},
     "output_type": "execute_result"
    },
    {
     "data": {
      "text/plain": [
       "<Figure size 432x288 with 0 Axes>"
      ]
     },
     "metadata": {},
     "output_type": "display_data"
    },
    {
     "data": {
      "image/png": "[encoded data removed]",
      "text/plain": [
       "<Figure size 720x720 with 4 Axes>"
      ]
     },
     "metadata": {
      "needs_background": "light"
     },
     "output_type": "display_data"
    }
   ],
   "source": [
    "from matplotlib import pyplot as plt\n",
    "%matplotlib inline\n",
    "\n",
    "plt.subplots_adjust(wspace=100.0, hspace=20.0)\n",
    "fig = plt.figure()\n",
    "fig.set_figheight(10)\n",
    "fig.set_figwidth(10)\n",
    "predict_error_line = fig.add_subplot(2, 2, 1)\n",
    "confidence_error_line = fig.add_subplot(2, 2, 2)\n",
    "regularization_error_line = fig.add_subplot(2, 2, 3)\n",
    "total_loss_line = fig.add_subplot(2, 2, 4)\n",
    "\n",
    "predict_error_line.set_title(\"Predict Error\") \n",
    "predict_error_line.plot(predict_errors)\n",
    "\n",
    "confidence_error_line.set_title(\"Confidence Error\")\n",
    "confidence_error_line.plot(confidence_errors)\n",
    "\n",
    "regularization_error_line.set_title(\"Regularization\")\n",
    "regularization_error_line.plot(regularization_list)\n",
    "\n",
    "total_loss_line.set_title(\"Total Loss\")\n",
    "total_loss_line.plot(total_losses)\n",
    "plt.show()"
   ]
  },
  {
   "cell_type": "markdown",
   "metadata": {},
   "source": [
    "### 참조\n",
    "[1] https://yeomko.tistory.com/8?category=805638\n"
   ]
  }
 ],
 "metadata": {
  "kernelspec": {
   "display_name": "Python 3",
   "language": "python",
   "name": "python3"
  },
  "language_info": {
   "codemirror_mode": {
    "name": "ipython",
    "version": 3
   },
   "file_extension": ".py",
   "mimetype": "text/x-python",
   "name": "python",
   "nbconvert_exporter": "python",
   "pygments_lexer": "ipython3",
   "version": "3.7.6"
  }
 },
 "nbformat": 4,
 "nbformat_minor": 4
}
